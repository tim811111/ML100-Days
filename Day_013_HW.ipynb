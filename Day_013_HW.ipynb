{
 "cells": [
  {
   "cell_type": "markdown",
   "metadata": {},
   "source": [
    "## 練習時間\n",
    "參考 Day 12 範例程式，離散化你覺得有興趣的欄位，並嘗試找出有趣的訊息"
   ]
  },
  {
   "cell_type": "code",
   "execution_count": 1,
   "metadata": {},
   "outputs": [],
   "source": [
    "# Import 需要的套件\n",
    "import os\n",
    "import numpy as np\n",
    "import pandas as pd\n",
    "import seaborn as sns\n",
    "import matplotlib.pyplot as plt\n",
    "%matplotlib inline"
   ]
  },
  {
   "cell_type": "markdown",
   "metadata": {},
   "source": [
    "### 之前做過的處理"
   ]
  },
  {
   "cell_type": "code",
   "execution_count": 2,
   "metadata": {},
   "outputs": [],
   "source": [
    "# 設定 data_path\n",
    "dir_data = r'C:\\Users\\user\\Desktop\\GitHub\\ML100-Days\\domcuments\\homework\\D13'\n",
    "f_app_train = os.path.join(dir_data, 'application_train.csv')\n",
    "f_app_test = os.path.join(dir_data, 'application_test.csv')\n",
    "\n",
    "app_train = pd.read_csv(f_app_train)\n",
    "app_test = pd.read_csv(f_app_test)\n",
    "\n",
    "from sklearn.preprocessing import LabelEncoder\n",
    "\n",
    "# Create a label encoder object\n",
    "le = LabelEncoder()\n",
    "le_count = 0\n",
    "\n",
    "# Iterate through the columns\n",
    "for col in app_train:\n",
    "    if app_train[col].dtype == 'object':\n",
    "        # If 2 or fewer unique categories\n",
    "        if len(list(app_train[col].unique())) <= 2:\n",
    "            # Train on the training data\n",
    "            le.fit(app_train[col])\n",
    "            # Transform both training and testing data\n",
    "            app_train[col] = le.transform(app_train[col])\n",
    "            app_test[col] = le.transform(app_test[col])\n",
    "            \n",
    "            # Keep track of how many columns were label encoded\n",
    "            le_count += 1\n",
    "            \n",
    "app_train = pd.get_dummies(app_train)\n",
    "app_test = pd.get_dummies(app_test)\n",
    "\n",
    "# Create an anomalous flag column\n",
    "app_train['DAYS_EMPLOYED_ANOM'] = app_train[\"DAYS_EMPLOYED\"] == 365243\n",
    "app_train['DAYS_EMPLOYED'].replace({365243: np.nan}, inplace = True)\n",
    "# also apply to testing dataset\n",
    "app_test['DAYS_EMPLOYED_ANOM'] = app_test[\"DAYS_EMPLOYED\"] == 365243\n",
    "app_test[\"DAYS_EMPLOYED\"].replace({365243: np.nan}, inplace = True)\n",
    "\n",
    "# absolute the value of DAYS_BIRTH\n",
    "app_train['DAYS_BIRTH'] = abs(app_train['DAYS_BIRTH'])\n",
    "app_test['DAYS_BIRTH'] = abs(app_test['DAYS_BIRTH'])\n"
   ]
  },
  {
   "cell_type": "code",
   "execution_count": 3,
   "metadata": {},
   "outputs": [
    {
     "data": {
      "text/plain": [
       "count       307511\n",
       "mean        168797\n",
       "std         237123\n",
       "min          25650\n",
       "10%          81000\n",
       "20%          99000\n",
       "30%         112500\n",
       "40%         135000\n",
       "50%         147150\n",
       "60%         162000\n",
       "70%         180000\n",
       "80%         225000\n",
       "90%         270000\n",
       "95%         337500\n",
       "99%         472500\n",
       "max      117000000\n",
       "Name: AMT_INCOME_TOTAL, dtype: int32"
      ]
     },
     "execution_count": 3,
     "metadata": {},
     "output_type": "execute_result"
    }
   ],
   "source": [
    "INCOME = app_train[['TARGET', 'AMT_INCOME_TOTAL']].copy()\n",
    "\n",
    "train_n =  len(app_train['AMT_INCOME_TOTAL'])\n",
    "train_mean = app_train['AMT_INCOME_TOTAL'].mean()\n",
    "train_max = app_train['AMT_INCOME_TOTAL'].max()\n",
    "train_min =  app_train['AMT_INCOME_TOTAL'].min()\n",
    "T_E =  (train_max - train_min) / train_n\n",
    "INCOME['AMT_INCOME_TOTAL'].describe([.10,.20,.30,.40,.50,.60,.70,.80,.90,.95,.99]).astype(int)"
   ]
  },
  {
   "cell_type": "code",
   "execution_count": 4,
   "metadata": {},
   "outputs": [
    {
     "data": {
      "text/plain": [
       "{'whiskers': [<matplotlib.lines.Line2D at 0xc206518f60>,\n",
       "  <matplotlib.lines.Line2D at 0xc206ab7eb8>],\n",
       " 'caps': [<matplotlib.lines.Line2D at 0xc206ab7f98>,\n",
       "  <matplotlib.lines.Line2D at 0xc206ac8748>],\n",
       " 'boxes': [<matplotlib.lines.Line2D at 0xc206ab7550>],\n",
       " 'medians': [<matplotlib.lines.Line2D at 0xc206ac8b70>],\n",
       " 'fliers': [<matplotlib.lines.Line2D at 0xc206ac8f98>],\n",
       " 'means': []}"
      ]
     },
     "execution_count": 4,
     "metadata": {},
     "output_type": "execute_result"
    },
    {
     "data": {
      "image/png": "[encoded data removed]",
      "text/plain": [
       "<Figure size 432x288 with 1 Axes>"
      ]
     },
     "metadata": {
      "needs_background": "light"
     },
     "output_type": "display_data"
    }
   ],
   "source": [
    "\n",
    "train_scale = (INCOME['AMT_INCOME_TOTAL'] - train_mean) / train_n\n",
    "train_scale2 = train_scale / T_E\n",
    "plt.boxplot(x= train_scale2, vert = False, )"
   ]
  },
  {
   "cell_type": "code",
   "execution_count": 5,
   "metadata": {},
   "outputs": [
    {
     "data": {
      "text/plain": [
       "(25649.999, 75300.0]    23918\n",
       "(75300.0, 124950.0]     83480\n",
       "(124950.0, 174600.0]    82548\n",
       "(174600.0, 224250.0]    49745\n",
       "(224250.0, 273900.0]    40671\n",
       "(273900.0, 323550.0]    11015\n",
       "(323550.0, 373200.0]     6745\n",
       "(373200.0, 422850.0]     3113\n",
       "(422850.0, 472500.0]     3262\n",
       "Name: INCOME_eq, dtype: int64"
      ]
     },
     "execution_count": 5,
     "metadata": {},
     "output_type": "execute_result"
    }
   ],
   "source": [
    "# list_cut_income = [0, 112500, 147150, 202500, 117000000]\n",
    "list_cut_income = sorted(list(np.linspace(472500, train_min,num=10,dtype=int,))) #99% data\n",
    "INCOME['INCOME_eq'] = pd.cut(INCOME['AMT_INCOME_TOTAL'], list_cut_income, include_lowest= True)\n",
    "train_delmax = INCOME['INCOME_eq'].value_counts(sort = False)\n",
    "INCOME['INCOME_eq'].value_counts(sort = False)"
   ]
  },
  {
   "cell_type": "code",
   "execution_count": null,
   "metadata": {},
   "outputs": [],
   "source": [
    "INCOME_grouped = INCOME.groupby('INCOME_eq').mean()\n",
    "# INCOME.plot(kind = 'bar', x ='AMT_INCOME_TOTAL', y ='TARGET', figsize = (8,8) )"
   ]
  },
  {
   "cell_type": "code",
   "execution_count": 6,
   "metadata": {},
   "outputs": [
    {
     "data": {
      "text/plain": [
       "{'whiskers': [<matplotlib.lines.Line2D at 0xc206b4af60>,\n",
       "  <matplotlib.lines.Line2D at 0xc206b4f3c8>],\n",
       " 'caps': [<matplotlib.lines.Line2D at 0xc206b4f7f0>,\n",
       "  <matplotlib.lines.Line2D at 0xc206b4fc18>],\n",
       " 'boxes': [<matplotlib.lines.Line2D at 0xc206b4a9e8>],\n",
       " 'medians': [<matplotlib.lines.Line2D at 0xc206b4fcf8>],\n",
       " 'fliers': [<matplotlib.lines.Line2D at 0xc206b578d0>],\n",
       " 'means': [<matplotlib.lines.Line2D at 0xc206b574a8>]}"
      ]
     },
     "execution_count": 6,
     "metadata": {},
     "output_type": "execute_result"
    },
    {
     "data": {
      "image/png": "[encoded data removed]",
      "text/plain": [
       "<Figure size 640x480 with 1 Axes>"
      ]
     },
     "metadata": {},
     "output_type": "display_data"
    }
   ],
   "source": [
    "plt.style.use('default')\n",
    "plt.boxplot(x = train_delmax, vert = False, whis=[5,95], widths = 0.1, showmeans = True)"
   ]
  },
  {
   "cell_type": "code",
   "execution_count": 143,
   "metadata": {},
   "outputs": [
    {
     "data": {
      "text/plain": [
       "(0.999, 39.0]    123037\n",
       "(60.0, 66.0]      28606\n",
       "(39.0, 42.0]      25405\n",
       "(42.0, 45.0]      23782\n",
       "(45.0, 48.0]      21442\n",
       "(51.0, 54.0]      21353\n",
       "(54.0, 57.0]      20723\n",
       "(48.0, 51.0]      19899\n",
       "(57.0, 60.0]      19462\n",
       "(66.0, 69.0]       3802\n",
       "Name: AGE_GROUP, dtype: int64"
      ]
     },
     "execution_count": 143,
     "metadata": {},
     "output_type": "execute_result"
    }
   ],
   "source": [
    "# app_train[\"DAYS_BIRTH\"]/365\n",
    "app_train[\"AGE\"] = round(app_train[\"DAYS_BIRTH\"]/365)\n",
    "app_train[\"AGE\"].value_counts(sort = True)\n",
    "#以最大最小值作為區間等分10\n",
    "cut_list = [1,39,42,45,48,51,54,57,60,66,69]\n",
    "app_train[\"AGE_GROUP\"] = pd.cut(app_train[\"AGE\"], cut_list, include_lowest= True )\n",
    "app_train[\"AGE_GROUP\"].value_counts()"
   ]
  },
  {
   "cell_type": "code",
   "execution_count": 11,
   "metadata": {
    "scrolled": true
   },
   "outputs": [],
   "source": [
    "app_train[\"BIRTHDAY_scatter\"] = pd.cut(app_train[\"DAYS_BIRTH\"].values/365, 10)"
   ]
  },
  {
   "cell_type": "code",
   "execution_count": 12,
   "metadata": {},
   "outputs": [
    {
     "data": {
      "text/plain": [
       "(35.099, 39.959]    41758\n",
       "(39.959, 44.819]    40350\n",
       "(30.238, 35.099]    38430\n",
       "(44.819, 49.679]    34311\n",
       "(49.679, 54.54]     33544\n",
       "(25.378, 30.238]    33127\n",
       "(54.54, 59.4]       32650\n",
       "(59.4, 64.26]       27685\n",
       "(20.469, 25.378]    13679\n",
       "(64.26, 69.121]     11977\n",
       "Name: BIRTHDAY_scatter, dtype: int64"
      ]
     },
     "execution_count": 12,
     "metadata": {},
     "output_type": "execute_result"
    }
   ],
   "source": [
    "app_train[\"BIRTHDAY_scatter\"].value_counts()"
   ]
  },
  {
   "cell_type": "code",
   "execution_count": 135,
   "metadata": {},
   "outputs": [
    {
     "data": {
      "text/plain": [
       "RangeIndex(start=0, stop=307511, step=1)"
      ]
     },
     "execution_count": 135,
     "metadata": {},
     "output_type": "execute_result"
    }
   ],
   "source": [
    "app_train['INCOME_eq'].index"
   ]
  },
  {
   "cell_type": "code",
   "execution_count": null,
   "metadata": {},
   "outputs": [],
   "source": []
  },
  {
   "cell_type": "code",
   "execution_count": null,
   "metadata": {},
   "outputs": [],
   "source": []
  }
 ],
 "metadata": {
  "kernelspec": {
   "display_name": "Python 3",
   "language": "python",
   "name": "python3"
  },
  "language_info": {
   "codemirror_mode": {
    "name": "ipython",
    "version": 3
   },
   "file_extension": ".py",
   "mimetype": "text/x-python",
   "name": "python",
   "nbconvert_exporter": "python",
   "pygments_lexer": "ipython3",
   "version": "3.7.0"
  }
 },
 "nbformat": 4,
 "nbformat_minor": 2
}
