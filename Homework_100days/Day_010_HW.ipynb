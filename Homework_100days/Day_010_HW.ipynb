{
 "cells": [
  {
   "cell_type": "code",
   "execution_count": 1,
   "metadata": {},
   "outputs": [],
   "source": [
    "# Import 需要的套件\n",
    "import os\n",
    "import numpy as np\n",
    "import pandas as pd\n",
    "\n",
    "import matplotlib.pyplot as plt\n",
    "%matplotlib inline"
   ]
  },
  {
   "cell_type": "code",
   "execution_count": 2,
   "metadata": {},
   "outputs": [],
   "source": [
    "# 設定 data_path\n",
    "dir_data = r'C:\\Users\\user\\Desktop\\GitHub\\ML100-Days\\domcuments\\homework\\D10'\n",
    "f_app_train = os.path.join(dir_data, 'application_train.csv')\n",
    "f_app_test = os.path.join(dir_data, 'application_test.csv')\n",
    "\n",
    "app_train = pd.read_csv(f_app_train)\n",
    "app_test = pd.read_csv(f_app_test)\n",
    "\n",
    "from sklearn.preprocessing import LabelEncoder\n",
    "\n",
    "# Create a label encoder object\n",
    "le = LabelEncoder()\n",
    "le_count = 0\n",
    "\n",
    "# Iterate through the columns\n",
    "for col in app_train:\n",
    "    if app_train[col].dtype == 'object':\n",
    "        # If 2 or fewer unique categories\n",
    "        if len(list(app_train[col].unique())) <= 2:\n",
    "            # Train on the training data\n",
    "            le.fit(app_train[col])\n",
    "            # Transform both training and testing data\n",
    "            app_train[col] = le.transform(app_train[col])\n",
    "            app_test[col] = le.transform(app_test[col])\n",
    "            \n",
    "            # Keep track of how many columns were label encoded\n",
    "            le_count += 1\n",
    "            \n",
    "app_train = pd.get_dummies(app_train)\n",
    "app_test = pd.get_dummies(app_test)\n",
    "\n",
    "# Create an anomalous flag column\n",
    "app_train['DAYS_EMPLOYED_ANOM'] = app_train[\"DAYS_EMPLOYED\"] == 365243\n",
    "app_train['DAYS_EMPLOYED'].replace({365243: np.nan}, inplace = True)\n",
    "# also apply to testing dataset\n",
    "app_test['DAYS_EMPLOYED_ANOM'] = app_test[\"DAYS_EMPLOYED\"] == 365243\n",
    "app_test[\"DAYS_EMPLOYED\"].replace({365243: np.nan}, inplace = True)\n",
    "\n",
    "# absolute the value of DAYS_BIRTH\n",
    "app_train['DAYS_BIRTH'] = abs(app_train['DAYS_BIRTH'])\n",
    "app_test['DAYS_BIRTH'] = abs(app_test['DAYS_BIRTH'])"
   ]
  },
  {
   "cell_type": "markdown",
   "metadata": {},
   "source": [
    "### 相關係數\n",
    "一樣，pandas 很貼心地讓我們可以非常容易計算相關係數"
   ]
  },
  {
   "cell_type": "code",
   "execution_count": 3,
   "metadata": {},
   "outputs": [],
   "source": [
    "Target_corr = app_train.corr()['TARGET']"
   ]
  },
  {
   "cell_type": "markdown",
   "metadata": {},
   "source": [
    "## 練習時間\n",
    "列出目標 (TARGET) 與所有欄位之間相關係數，數值最大以及最小各 15 個\n",
    "\n",
    "通過相關係數的結果觀察有興趣的欄位與 TARGET 或其他欄位的相關係數，並嘗試找出有趣的訊息\n",
    "- 最好的方式當然是畫圖，舉例來說，我們知道  EXT_SOURCE_3 這個欄位和 TARGET 之間的相關係數是 -0.178919 (在已經這個資料集已經是最負的了！)，那我們可以 EXT_SOURCE_3  為 x 軸， TARGET 為 y 軸，把資料給畫出來"
   ]
  },
  {
   "cell_type": "code",
   "execution_count": 4,
   "metadata": {},
   "outputs": [],
   "source": [
    "high_corr_target = Target_corr.abs().sort_values(ascending=False)[1:16]\n",
    "low_corr_target = Target_corr.abs().sort_values()[0:15]"
   ]
  },
  {
   "cell_type": "code",
   "execution_count": 22,
   "metadata": {},
   "outputs": [
    {
     "name": "stdout",
     "output_type": "stream",
     "text": [
      "目標 (TARGET) 與所有欄位之間相關係數，數值最小 15 個: \n",
      "ORGANIZATION_TYPE_Industry: type 7          0.000094\n",
      "ORGANIZATION_TYPE_Advertising               0.000117\n",
      "FLAG_DOCUMENT_20                            0.000215\n",
      "ORGANIZATION_TYPE_Legal Services            0.000236\n",
      "NAME_HOUSING_TYPE_Co-op apartment           0.000312\n",
      "FLAG_DOCUMENT_5                             0.000316\n",
      "ORGANIZATION_TYPE_Business Entity Type 1    0.000339\n",
      "FLAG_CONT_MOBILE                            0.000370\n",
      "OCCUPATION_TYPE_Realty agents               0.000394\n",
      "WEEKDAY_APPR_PROCESS_START_THURSDAY         0.000446\n",
      "NAME_TYPE_SUITE_Group of people             0.000452\n",
      "ORGANIZATION_TYPE_Housing                   0.000464\n",
      "FLAG_MOBIL                                  0.000534\n",
      "WALLSMATERIAL_MODE_Others                   0.000628\n",
      "ORGANIZATION_TYPE_Industry: type 6          0.000652\n",
      "Name: TARGET, dtype: float64\n"
     ]
    }
   ],
   "source": [
    "print(f'目標 (TARGET) 與所有欄位之間相關係數，數值最小 15 個: \\n{low_corr_target}')"
   ]
  },
  {
   "cell_type": "code",
   "execution_count": 21,
   "metadata": {
    "scrolled": true
   },
   "outputs": [
    {
     "name": "stdout",
     "output_type": "stream",
     "text": [
      "目標 (TARGET) 與所有欄位之間相關係數，數值最大 15 個: \n",
      "EXT_SOURCE_3                                         0.178919\n",
      "EXT_SOURCE_2                                         0.160472\n",
      "EXT_SOURCE_1                                         0.155317\n",
      "DAYS_BIRTH                                           0.078239\n",
      "DAYS_EMPLOYED                                        0.074958\n",
      "REGION_RATING_CLIENT_W_CITY                          0.060893\n",
      "REGION_RATING_CLIENT                                 0.058899\n",
      "NAME_INCOME_TYPE_Working                             0.057481\n",
      "NAME_EDUCATION_TYPE_Higher education                 0.056593\n",
      "DAYS_LAST_PHONE_CHANGE                               0.055218\n",
      "CODE_GENDER_M                                        0.054713\n",
      "CODE_GENDER_F                                        0.054704\n",
      "DAYS_ID_PUBLISH                                      0.051457\n",
      "REG_CITY_NOT_WORK_CITY                               0.050994\n",
      "NAME_EDUCATION_TYPE_Secondary / secondary special    0.049824\n",
      "Name: TARGET, dtype: float64\n"
     ]
    }
   ],
   "source": [
    "print(f'目標 (TARGET) 與所有欄位之間相關係數，數值最大 15 個: \\n{high_corr_target}')"
   ]
  },
  {
   "cell_type": "code",
   "execution_count": 38,
   "metadata": {},
   "outputs": [
    {
     "data": {
      "image/png": "[encoded data removed]",
      "text/plain": [
       "<Figure size 432x288 with 1 Axes>"
      ]
     },
     "metadata": {
      "needs_background": "light"
     },
     "output_type": "display_data"
    },
    {
     "name": "stdout",
     "output_type": "stream",
     "text": [
      "scatter plot 無法顯示差異\n"
     ]
    }
   ],
   "source": [
    "plt.scatter(app_train[app_train['TARGET'] == 0]['EXT_SOURCE_3'], app_train[app_train['TARGET'] == 0]['TARGET'], marker='o', c='red', label='TARGET=0')\n",
    "plt.scatter(app_train[app_train['TARGET'] == 1]['EXT_SOURCE_3'], app_train[app_train['TARGET'] == 1]['TARGET'], marker='o', c='green', label='TARGET=1')\n",
    "plt.xlabel('EXT_SOURCE_3')\n",
    "plt.ylabel('TARGET')\n",
    "plt.legend()\n",
    "plt.show()\n",
    "print('scatter plot 無法顯示差異')"
   ]
  },
  {
   "cell_type": "code",
   "execution_count": 39,
   "metadata": {},
   "outputs": [
    {
     "data": {
      "image/png": "[encoded data removed]",
      "text/plain": [
       "<Figure size 720x432 with 4 Axes>"
      ]
     },
     "metadata": {
      "needs_background": "light"
     },
     "output_type": "display_data"
    }
   ],
   "source": [
    "app_train.boxplot(column = ['EXT_SOURCE_1', 'EXT_SOURCE_2', 'EXT_SOURCE_3',] , by =['TARGET'] , showfliers = False, figsize=(10,6), vert=False)\n",
    "plt.suptitle('correlation of EXT_SOURCE_1 - 3 by TARGET')\n",
    "plt.show()\n"
   ]
  },
  {
   "cell_type": "code",
   "execution_count": null,
   "metadata": {},
   "outputs": [],
   "source": []
  }
 ],
 "metadata": {
  "kernelspec": {
   "display_name": "Python 3",
   "language": "python",
   "name": "python3"
  },
  "language_info": {
   "codemirror_mode": {
    "name": "ipython",
    "version": 3
   },
   "file_extension": ".py",
   "mimetype": "text/x-python",
   "name": "python",
   "nbconvert_exporter": "python",
   "pygments_lexer": "ipython3",
   "version": "3.7.0"
  }
 },
 "nbformat": 4,
 "nbformat_minor": 2
}
