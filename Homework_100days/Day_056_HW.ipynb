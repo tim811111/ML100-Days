{
 "cells": [
  {
   "cell_type": "markdown",
   "metadata": {
    "collapsed": true
   },
   "source": [
    "# 作業\n",
    "* 試著模擬出 5 群高斯分布的資料, 並以此觀察 K-mean 與輪廓分析的結果  "
   ]
  },
  {
   "cell_type": "code",
   "execution_count": 2,
   "metadata": {},
   "outputs": [],
   "source": [
    "# 載入套件\n",
    "import numpy as np\n",
    "import matplotlib\n",
    "import matplotlib.pyplot as plt\n",
    "import matplotlib.cm as cm\n",
    "from sklearn.datasets import make_blobs\n",
    "from sklearn.cluster import KMeans\n",
    "from sklearn import datasets\n",
    "from sklearn.metrics import silhouette_samples, silhouette_score\n",
    "\n",
    "np.random.seed(5)\n",
    "\n",
    "%matplotlib inline"
   ]
  },
  {
   "cell_type": "code",
   "execution_count": 3,
   "metadata": {},
   "outputs": [],
   "source": [
    "# 生成 5 群資料\n",
    "X, y = make_blobs(n_samples=500,\n",
    "                  n_features=2,\n",
    "                  centers=5,\n",
    "                  cluster_std=1,\n",
    "                  center_box=(-10.0, 10.0),\n",
    "                  shuffle=True,\n",
    "                  random_state=123) "
   ]
  },
  {
   "cell_type": "code",
   "execution_count": 4,
   "metadata": {},
   "outputs": [],
   "source": [
    "# 設定需要計算的 K 值集合\n",
    "range_of_clustering = [2,3,4,5,6,7,8,9,10]"
   ]
  },
  {
   "cell_type": "code",
   "execution_count": 36,
   "metadata": {},
   "outputs": [],
   "source": [
    "def slope_mesure(a1,a2):\n",
    "    dis = a2-a1\n",
    "    return abs(dis)"
   ]
  },
  {
   "cell_type": "code",
   "execution_count": 49,
   "metadata": {},
   "outputs": [
    {
     "name": "stdout",
     "output_type": "stream",
     "text": [
      "For n_clusters = 2 The average silhouette_score is : 0.5027144446956527\n",
      "dis = 0.0000\n",
      " \n",
      "For n_clusters = 3 The average silhouette_score is : 0.6105565451092732\n",
      "dis = 0.1078\n",
      " \n",
      "For n_clusters = 4 The average silhouette_score is : 0.6270122040179333\n",
      "dis = 0.0165\n",
      " \n",
      "For n_clusters = 5 The average silhouette_score is : 0.6115749260799671\n",
      "dis = 0.0154\n",
      " \n",
      "For n_clusters = 6 The average silhouette_score is : 0.5499388428924794\n",
      "dis = 0.0616\n",
      " \n",
      "For n_clusters = 7 The average silhouette_score is : 0.4695416652197068\n",
      "dis = 0.0804\n",
      " \n",
      "For n_clusters = 8 The average silhouette_score is : 0.4231800504179843\n",
      "dis = 0.0464\n",
      " \n",
      "For n_clusters = 9 The average silhouette_score is : 0.3418836581839249\n",
      "dis = 0.0813\n",
      " \n",
      "For n_clusters = 10 The average silhouette_score is : 0.34139085049070866\n",
      "dis = 0.0005\n",
      " \n"
     ]
    },
    {
     "data": {
      "text/plain": [
       "<matplotlib.collections.PathCollection at 0x2ac24d6b0b8>"
      ]
     },
     "execution_count": 49,
     "metadata": {},
     "output_type": "execute_result"
    },
    {
     "data": {
      "image/png": "[encoded data removed]",
      "text/plain": [
       "<matplotlib.figure.Figure at 0x2ac24ac5710>"
      ]
     },
     "metadata": {},
     "output_type": "display_data"
    }
   ],
   "source": [
    "# 計算並繪製輪廓分析的結果\n",
    "silhouette_result=[]\n",
    "dis=[]\n",
    "for n_clu in range_of_clustering:\n",
    "#     fig, (ax1, ax2) = plt.subplots(1, 2)\n",
    "#     fig.set_size_inches(18, 7)\n",
    "\n",
    "#     # The 1st subplot is the silhouette plot\n",
    "#     # The silhouette coefficient can range from -1, 1 but in this example all\n",
    "#     # lie within [-0.1, 1]\n",
    "#     ax1.set_xlim([-0.1, 1])\n",
    "#     # The (n_clusters+1)*10 is for inserting blank space between silhouette\n",
    "#     # plots of individual clusters, to demarcate them clearly.\n",
    "#     ax1.set_ylim([0, len(X) + (n_clu + 1) * 10])\n",
    "    \n",
    "    cluster = KMeans(n_clu,random_state=10)\n",
    "    clu_predict = cluster.fit_predict(X)\n",
    "    \n",
    "    silhouette_avg = silhouette_score(X, clu_predict)\n",
    "    print(\"For n_clusters =\", n_clu,\n",
    "          \"The average silhouette_score is :\", silhouette_avg)\n",
    "    silhouette_value_sample = silhouette_samples(X, clu_predict)\n",
    "    silhouette_result.append(silhouette_avg)\n",
    "    d = abs(silhouette_result[n_clu-2]-silhouette_result[n_clu-3])\n",
    "    dis.append(d)\n",
    "    print(f\"dis = {d:.4f}\\n \")\n",
    "\n",
    "ran = range(2,11)\n",
    "plt.scatter(x= ran, y=silhouette_result)\n",
    "plt.scatter(x= ran, y=dis)"
   ]
  },
  {
   "cell_type": "markdown",
   "metadata": {
    "collapsed": true
   },
   "source": [
    "#### 2, 5, 6, is better cluster results"
   ]
  },
  {
   "cell_type": "code",
   "execution_count": null,
   "metadata": {},
   "outputs": [],
   "source": []
  }
 ],
 "metadata": {
  "kernelspec": {
   "display_name": "Python 3",
   "language": "python",
   "name": "python3"
  },
  "language_info": {
   "codemirror_mode": {
    "name": "ipython",
    "version": 3
   },
   "file_extension": ".py",
   "mimetype": "text/x-python",
   "name": "python",
   "nbconvert_exporter": "python",
   "pygments_lexer": "ipython3",
   "version": "3.6.4"
  }
 },
 "nbformat": 4,
 "nbformat_minor": 1
}
